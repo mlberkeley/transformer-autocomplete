{
 "cells": [
  {
   "cell_type": "code",
   "execution_count": 2,
   "metadata": {},
   "outputs": [],
   "source": [
    "%matplotlib inline\n",
    "import missingno as msno\n",
    "import seaborn as sns\n",
    "import numpy as np\n",
    "import pandas as pd\n",
    "import base64"
   ]
  },
  {
   "cell_type": "code",
   "execution_count": 5,
   "metadata": {},
   "outputs": [
    {
     "data": {
      "text/html": [
       "<div>\n",
       "<style scoped>\n",
       "    .dataframe tbody tr th:only-of-type {\n",
       "        vertical-align: middle;\n",
       "    }\n",
       "\n",
       "    .dataframe tbody tr th {\n",
       "        vertical-align: top;\n",
       "    }\n",
       "\n",
       "    .dataframe thead th {\n",
       "        text-align: right;\n",
       "    }\n",
       "</style>\n",
       "<table border=\"1\" class=\"dataframe\">\n",
       "  <thead>\n",
       "    <tr style=\"text-align: right;\">\n",
       "      <th></th>\n",
       "      <th>Unnamed: 0</th>\n",
       "      <th>Repo Url</th>\n",
       "      <th>Path in Repo</th>\n",
       "      <th>Source Languages</th>\n",
       "      <th>B64 File Contents</th>\n",
       "    </tr>\n",
       "  </thead>\n",
       "  <tbody>\n",
       "    <tr>\n",
       "      <th>0</th>\n",
       "      <td>0</td>\n",
       "      <td>https://github.com/tensorflow/tensorflow</td>\n",
       "      <td>tools/tf_env_collect.sh</td>\n",
       "      <td>Shell</td>\n",
       "      <td>IyEvdXNyL2Jpbi9lbnYgYmFzaAojIENvcHlyaWdodCAyMD...</td>\n",
       "    </tr>\n",
       "    <tr>\n",
       "      <th>1</th>\n",
       "      <td>1</td>\n",
       "      <td>https://github.com/tensorflow/tensorflow</td>\n",
       "      <td>third_party/toolchains/preconfig/generate/gene...</td>\n",
       "      <td>Shell</td>\n",
       "      <td>IyEvYmluL2Jhc2gKIwojIENvcHlyaWdodCAyMDE4IFRoZS...</td>\n",
       "    </tr>\n",
       "    <tr>\n",
       "      <th>2</th>\n",
       "      <td>2</td>\n",
       "      <td>https://github.com/tensorflow/tensorflow</td>\n",
       "      <td>third_party/toolchains/preconfig/centos6/tenso...</td>\n",
       "      <td>C</td>\n",
       "      <td>LyogQ29weXJpZ2h0IDIwMTkgVGhlIFRlbnNvckZsb3cgQX...</td>\n",
       "    </tr>\n",
       "    <tr>\n",
       "      <th>3</th>\n",
       "      <td>3</td>\n",
       "      <td>https://github.com/tensorflow/tensorflow</td>\n",
       "      <td>third_party/toolchains/preconfig/centos6/gcc7/...</td>\n",
       "      <td>C++</td>\n",
       "      <td>aW50IG1haW4oKSB7fQo=\\n</td>\n",
       "    </tr>\n",
       "    <tr>\n",
       "      <th>4</th>\n",
       "      <td>4</td>\n",
       "      <td>https://github.com/tensorflow/tensorflow</td>\n",
       "      <td>third_party/toolchains/preconfig/centos6/gcc7/...</td>\n",
       "      <td>Shell</td>\n",
       "      <td>IyEvYmluL2Jhc2gKIwojIENvcHlyaWdodCAyMDE1IFRoZS...</td>\n",
       "    </tr>\n",
       "    <tr>\n",
       "      <th>...</th>\n",
       "      <td>...</td>\n",
       "      <td>...</td>\n",
       "      <td>...</td>\n",
       "      <td>...</td>\n",
       "      <td>...</td>\n",
       "    </tr>\n",
       "    <tr>\n",
       "      <th>10144</th>\n",
       "      <td>10144</td>\n",
       "      <td>https://github.com/tensorflow/tensorflow</td>\n",
       "      <td>tensorflow/c/c_api.cc</td>\n",
       "      <td>C++</td>\n",
       "      <td>LyogQ29weXJpZ2h0IDIwMTUgVGhlIFRlbnNvckZsb3cgQX...</td>\n",
       "    </tr>\n",
       "    <tr>\n",
       "      <th>10145</th>\n",
       "      <td>10145</td>\n",
       "      <td>https://github.com/tensorflow/tensorflow</td>\n",
       "      <td>tensorflow/api_template_v1.__init__.py</td>\n",
       "      <td>Python</td>\n",
       "      <td>IyBDb3B5cmlnaHQgMjAxNSBUaGUgVGVuc29yRmxvdyBBdX...</td>\n",
       "    </tr>\n",
       "    <tr>\n",
       "      <th>10146</th>\n",
       "      <td>10146</td>\n",
       "      <td>https://github.com/tensorflow/tensorflow</td>\n",
       "      <td>tensorflow/api_template.__init__.py</td>\n",
       "      <td>Python</td>\n",
       "      <td>IyBDb3B5cmlnaHQgMjAxNSBUaGUgVGVuc29yRmxvdyBBdX...</td>\n",
       "    </tr>\n",
       "    <tr>\n",
       "      <th>10147</th>\n",
       "      <td>10147</td>\n",
       "      <td>https://github.com/tensorflow/tensorflow</td>\n",
       "      <td>tensorflow/__init__.py</td>\n",
       "      <td>Python</td>\n",
       "      <td>IyBDb3B5cmlnaHQgMjAxNSBUaGUgVGVuc29yRmxvdyBBdX...</td>\n",
       "    </tr>\n",
       "    <tr>\n",
       "      <th>10148</th>\n",
       "      <td>10148</td>\n",
       "      <td>https://github.com/tensorflow/tensorflow</td>\n",
       "      <td>configure.py</td>\n",
       "      <td>Python</td>\n",
       "      <td>IyBDb3B5cmlnaHQgMjAxNyBUaGUgVGVuc29yRmxvdyBBdX...</td>\n",
       "    </tr>\n",
       "  </tbody>\n",
       "</table>\n",
       "<p>10149 rows × 5 columns</p>\n",
       "</div>"
      ],
      "text/plain": [
       "       Unnamed: 0                                  Repo Url  \\\n",
       "0               0  https://github.com/tensorflow/tensorflow   \n",
       "1               1  https://github.com/tensorflow/tensorflow   \n",
       "2               2  https://github.com/tensorflow/tensorflow   \n",
       "3               3  https://github.com/tensorflow/tensorflow   \n",
       "4               4  https://github.com/tensorflow/tensorflow   \n",
       "...           ...                                       ...   \n",
       "10144       10144  https://github.com/tensorflow/tensorflow   \n",
       "10145       10145  https://github.com/tensorflow/tensorflow   \n",
       "10146       10146  https://github.com/tensorflow/tensorflow   \n",
       "10147       10147  https://github.com/tensorflow/tensorflow   \n",
       "10148       10148  https://github.com/tensorflow/tensorflow   \n",
       "\n",
       "                                            Path in Repo Source Languages  \\\n",
       "0                                tools/tf_env_collect.sh            Shell   \n",
       "1      third_party/toolchains/preconfig/generate/gene...            Shell   \n",
       "2      third_party/toolchains/preconfig/centos6/tenso...                C   \n",
       "3      third_party/toolchains/preconfig/centos6/gcc7/...              C++   \n",
       "4      third_party/toolchains/preconfig/centos6/gcc7/...            Shell   \n",
       "...                                                  ...              ...   \n",
       "10144                              tensorflow/c/c_api.cc              C++   \n",
       "10145             tensorflow/api_template_v1.__init__.py           Python   \n",
       "10146                tensorflow/api_template.__init__.py           Python   \n",
       "10147                             tensorflow/__init__.py           Python   \n",
       "10148                                       configure.py           Python   \n",
       "\n",
       "                                       B64 File Contents  \n",
       "0      IyEvdXNyL2Jpbi9lbnYgYmFzaAojIENvcHlyaWdodCAyMD...  \n",
       "1      IyEvYmluL2Jhc2gKIwojIENvcHlyaWdodCAyMDE4IFRoZS...  \n",
       "2      LyogQ29weXJpZ2h0IDIwMTkgVGhlIFRlbnNvckZsb3cgQX...  \n",
       "3                                 aW50IG1haW4oKSB7fQo=\\n  \n",
       "4      IyEvYmluL2Jhc2gKIwojIENvcHlyaWdodCAyMDE1IFRoZS...  \n",
       "...                                                  ...  \n",
       "10144  LyogQ29weXJpZ2h0IDIwMTUgVGhlIFRlbnNvckZsb3cgQX...  \n",
       "10145  IyBDb3B5cmlnaHQgMjAxNSBUaGUgVGVuc29yRmxvdyBBdX...  \n",
       "10146  IyBDb3B5cmlnaHQgMjAxNSBUaGUgVGVuc29yRmxvdyBBdX...  \n",
       "10147  IyBDb3B5cmlnaHQgMjAxNSBUaGUgVGVuc29yRmxvdyBBdX...  \n",
       "10148  IyBDb3B5cmlnaHQgMjAxNyBUaGUgVGVuc29yRmxvdyBBdX...  \n",
       "\n",
       "[10149 rows x 5 columns]"
      ]
     },
     "execution_count": 5,
     "metadata": {},
     "output_type": "execute_result"
    }
   ],
   "source": [
    "data = pd.read_csv('/home/spvengat/Documents/ml@b/tf_repo.csv')\n",
    "data"
   ]
  },
  {
   "cell_type": "code",
   "execution_count": 12,
   "metadata": {},
   "outputs": [],
   "source": [
    "data.fillna(value={'B64 File Contents': \"\"}, inplace=True)"
   ]
  },
  {
   "cell_type": "code",
   "execution_count": 7,
   "metadata": {},
   "outputs": [
    {
     "data": {
      "text/plain": [
       "'#!/usr/bin/env bash\\n# Copyright 2017 The TensorFlow Authors. All Rights Reserved.\\n#\\n# Licensed under the Apache License, Version 2.0 (the \"License\");\\n# you may not use this file except in compliance with the License.\\n# You may obtain a copy of the License at\\n#\\n#     http://www.apache.org/licenses/LICENSE-2.0\\n#\\n# Unless required by applicable law or agreed to in writing, software\\n# distributed under the License is distributed on an \"AS IS\" BASIS,\\n# WITHOUT WARRANTIES OR CONDITIONS OF ANY KIND, either express or implied.\\n# See the License for the specific language governing permissions and\\n# limitations under the License.\\n# ==============================================================================\\n\\nset -u  # Check for undefined variables\\n\\ndie() {\\n  # Print a message and exit with code 1.\\n  #\\n  # Usage: die <error_message>\\n  #   e.g., die \"Something bad happened.\"\\n\\n  echo $@\\n  exit 1\\n}\\n\\necho \"Collecting system information...\"\\n\\nOUTPUT_FILE=tf_env.txt\\npython_bin_path=$(which python || which python3 || die \"Cannot find Python binary\")\\n\\n{\\necho\\necho \\'== check python ===================================================\\'\\n} >> ${OUTPUT_FILE}\\n\\ncat <<EOF > /tmp/check_python.py\\nimport platform\\n\\nprint(\"\"\"python version: %s\\npython branch: %s\\npython build version: %s\\npython compiler version: %s\\npython implementation: %s\\n\"\"\" % (\\nplatform.python_version(),\\nplatform.python_branch(),\\nplatform.python_build(),\\nplatform.python_compiler(),\\nplatform.python_implementation(),\\n))\\nEOF\\n${python_bin_path} /tmp/check_python.py 2>&1  >> ${OUTPUT_FILE}\\n\\n{\\necho\\necho \\'== check os platform ===============================================\\'\\n} >> ${OUTPUT_FILE}\\n\\ncat <<EOF > /tmp/check_os.py\\nimport platform\\n\\nprint(\"\"\"os: %s\\nos kernel version: %s\\nos release version: %s\\nos platform: %s\\nlinux distribution: %s\\nlinux os distribution: %s\\nmac version: %s\\nuname: %s\\narchitecture: %s\\nmachine: %s\\n\"\"\" % (\\nplatform.system(),\\nplatform.version(),\\nplatform.release(),\\nplatform.platform(),\\nplatform.linux_distribution(),\\nplatform.dist(),\\nplatform.mac_ver(),\\nplatform.uname(),\\nplatform.architecture(),\\nplatform.machine(),\\n))\\nEOF\\n${python_bin_path} /tmp/check_os.py 2>&1  >> ${OUTPUT_FILE}\\n\\n{\\n  echo\\n  echo \\'== are we in docker =============================================\\'\\n  num=`cat /proc/1/cgroup | grep docker | wc -l`;\\n  if [ $num -ge 1 ]; then\\n    echo \"Yes\"\\n  else\\n    echo \"No\"\\n  fi\\n  \\n  echo\\n  echo \\'== compiler =====================================================\\'\\n  c++ --version 2>&1\\n  \\n  echo\\n  echo \\'== check pips ===================================================\\'\\n  pip list 2>&1 | grep \"proto\\\\|numpy\\\\|tensorflow\"\\n  \\n  \\n  echo\\n  echo \\'== check for virtualenv =========================================\\'\\n  ${python_bin_path} -c \"import sys;print(hasattr(sys, \\\\\"real_prefix\\\\\"))\"\\n  \\n  echo\\n  echo \\'== tensorflow import ============================================\\'\\n} >> ${OUTPUT_FILE}\\n\\ncat <<EOF > /tmp/check_tf.py\\nimport tensorflow as tf;\\nprint(\"tf.version.VERSION = %s\" % tf.version.VERSION)\\nprint(\"tf.version.GIT_VERSION = %s\" % tf.version.GIT_VERSION)\\nprint(\"tf.version.COMPILER_VERSION = %s\" % tf.version.COMPILER_VERSION)\\nwith tf.Session() as sess:\\n  print(\"Sanity check: %r\" % sess.run(tf.constant([1,2,3])[:1]))\\nEOF\\n${python_bin_path} /tmp/check_tf.py 2>&1  >> ${OUTPUT_FILE}\\n\\nLD_DEBUG=libs ${python_bin_path} -c \"import tensorflow\"  2>>${OUTPUT_FILE} > /tmp/loadedlibs\\n\\n{\\n  grep libcudnn.so /tmp/loadedlibs\\n  echo\\n  echo \\'== env ==========================================================\\'\\n  if [ -z ${LD_LIBRARY_PATH+x} ]; then\\n    echo \"LD_LIBRARY_PATH is unset\";\\n  else\\n    echo LD_LIBRARY_PATH ${LD_LIBRARY_PATH} ;\\n  fi\\n  if [ -z ${DYLD_LIBRARY_PATH+x} ]; then\\n    echo \"DYLD_LIBRARY_PATH is unset\";\\n  else\\n    echo DYLD_LIBRARY_PATH ${DYLD_LIBRARY_PATH} ;\\n  fi\\n  \\n  \\n  echo\\n  echo \\'== nvidia-smi ===================================================\\'\\n  nvidia-smi 2>&1\\n  \\n  echo\\n  echo \\'== cuda libs  ===================================================\\'\\n} >> ${OUTPUT_FILE}\\n\\nfind /usr/local -type f -name \\'libcudart*\\'  2>/dev/null | grep cuda |  grep -v \"\\\\\\\\.cache\" >> ${OUTPUT_FILE}\\nfind /usr/local -type f -name \\'libudnn*\\'  2>/dev/null | grep cuda |  grep -v \"\\\\\\\\.cache\" >> ${OUTPUT_FILE}\\n\\n{\\n  echo\\n  echo \\'== tensorflow installed from info ==================\\'\\n  pip show tensorflow\\n\\n  echo\\n  echo \\'== python version  ==============================================\\'\\n  echo \\'(major, minor, micro, releaselevel, serial)\\'\\n  python -c \\'import sys; print(sys.version_info[:])\\'\\n  \\n  echo\\n  echo \\'== bazel version  ===============================================\\'\\n  bazel version\\n} >> ${OUTPUT_FILE}\\n\\n# Remove any words with google.\\nmv $OUTPUT_FILE old-$OUTPUT_FILE\\ngrep -v -i google old-${OUTPUT_FILE} > $OUTPUT_FILE\\n\\necho \"Wrote environment to ${OUTPUT_FILE}. You can review the contents of that file.\"\\necho \"and use it to populate the fields in the github issue template.\"\\necho\\necho \"cat ${OUTPUT_FILE}\"\\necho\\n\\n'"
      ]
     },
     "execution_count": 7,
     "metadata": {},
     "output_type": "execute_result"
    }
   ],
   "source": [
    "#data.iloc[0]['B64 File Contents']\n",
    "coded_string = data.iloc[0]['B64 File Contents']#'''Q5YACgA...'''\n",
    "decoded_string = base64.b64decode(coded_string)\n",
    "#type(decoded_string.decode(\"utf-8\"))\n",
    "decoded_string.decode(\"utf-8\")"
   ]
  },
  {
   "cell_type": "code",
   "execution_count": 17,
   "metadata": {},
   "outputs": [],
   "source": [
    "train_data = open(\"train_data.txt\", \"w\") \n",
    "test_data = open(\"test_data.txt\", \"w\") \n",
    "#file.write(\"\") \n",
    "#file.close()"
   ]
  },
  {
   "cell_type": "code",
   "execution_count": 18,
   "metadata": {},
   "outputs": [
    {
     "name": "stdout",
     "output_type": "stream",
     "text": [
      "Done!\n"
     ]
    }
   ],
   "source": [
    "train_range = 10148 * 0.8\n",
    "\n",
    "for i in range(10148):\n",
    "    #print(i)\n",
    "    coded_byte = data.iloc[i]['B64 File Contents']\n",
    "    decoded_byte = base64.b64decode(coded_byte)\n",
    "    decoded_string = decoded_byte.decode(\"utf-8\")\n",
    "    if i < train_range:\n",
    "        train_data.write(decoded_string)\n",
    "        train_data.write(\" \")\n",
    "    else:\n",
    "        test_data.write(decoded_string)\n",
    "        test_data.write(\" \")\n",
    "\n",
    "print('Done!')"
   ]
  },
  {
   "cell_type": "code",
   "execution_count": 13,
   "metadata": {},
   "outputs": [
    {
     "data": {
      "text/plain": [
       "''"
      ]
     },
     "execution_count": 13,
     "metadata": {},
     "output_type": "execute_result"
    }
   ],
   "source": [
    "data.iloc[414]['B64 File Contents']"
   ]
  },
  {
   "cell_type": "code",
   "execution_count": 16,
   "metadata": {},
   "outputs": [
    {
     "name": "stdout",
     "output_type": "stream",
     "text": [
      "Traceback (most recent call last):\r\n",
      "  File \"run_lm_finetuning.py\", line 39, in <module>\r\n",
      "    from torch.utils.tensorboard import SummaryWriter\r\n",
      "ModuleNotFoundError: No module named 'torch.utils.tensorboard'\r\n",
      "\r\n",
      "During handling of the above exception, another exception occurred:\r\n",
      "\r\n",
      "Traceback (most recent call last):\r\n",
      "  File \"run_lm_finetuning.py\", line 41, in <module>\r\n",
      "    from tensorboardX import SummaryWriter\r\n",
      "ModuleNotFoundError: No module named 'tensorboardX'\r\n"
     ]
    }
   ],
   "source": [
    "!export TRAIN_FILE=/home/spvengat/Documents/ml@b/transformer_autocomplete/transformer/train_data.txt\n",
    "!export TEST_FILE=/home/spvengat/Documents/ml@b/transformer_autocomplete/transformer/test_data.txt\n",
    "\n",
    "!python run_lm_finetuning.py \\ --output_dir=output \\\n",
    "    !--model_type=gpt2 \\\n",
    "    !--model_name_or_path=gpt2 \\\n",
    "    !--do_train \\\n",
    "    !--train_data_file=$TRAIN_FILE \\\n",
    "    !--do_eval \\\n",
    "    !--eval_data_file=$TEST_FILE\n",
    "\n",
    "#export TRAIN_FILE=/home/spvengat/Documents/ml@b/transformer_autocomplete/transformer/train_data.txt\n",
    "#export TEST_FILE=/home/spvengat/Documents/ml@b/transformer_autocomplete/transformer/test_data.txt\n",
    "#python3 run_lm_finetuning.py \\ --output_dir=output \\ --model_type=gpt2 \\ --model_name_or_path=gpt2 \\ --do_train \\ --train_data_file=$TRAIN_FILE \\ --do_eval \\ --eval_data_file=$TEST_FILE\n",
    "#python3 run_lm_finetuning.py --output_dir=output --model_type=gpt2 --model_name_or_path=gpt2 --do_train --train_data_file=\"/home/spvengat/Documents/ml@b/transformer_autocomplete/transformer/train_data.txt\" --do_eval --eval_data_file=\"/home/spvengat/Documents/ml@b/transformer_autocomplete/transformer/test_data.txt\"\n",
    "#python3 run_lm_finetuning.py --output_dir=output --model_type=gpt2 --model_name_or_path=gpt2 --do_train --train_data_file=\"./train_data.txt\" --do_eval --eval_data_file=\"./test_data.txt\""
   ]
  },
  {
   "cell_type": "code",
   "execution_count": null,
   "metadata": {},
   "outputs": [],
   "source": []
  }
 ],
 "metadata": {
  "kernelspec": {
   "display_name": "Python 3",
   "language": "python",
   "name": "python3"
  },
  "language_info": {
   "codemirror_mode": {
    "name": "ipython",
    "version": 3
   },
   "file_extension": ".py",
   "mimetype": "text/x-python",
   "name": "python",
   "nbconvert_exporter": "python",
   "pygments_lexer": "ipython3",
   "version": "3.6.8"
  }
 },
 "nbformat": 4,
 "nbformat_minor": 2
}
